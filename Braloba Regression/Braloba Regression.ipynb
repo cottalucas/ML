{
 "cells": [
  {
   "cell_type": "code",
   "execution_count": 2,
   "metadata": {
    "collapsed": true
   },
   "outputs": [
    {
     "name": "stderr",
     "output_type": "stream",
     "text": [
      "[INFO] \u001b[1;32m1450674082 : INFO:     (initialize_globals_from_environment:282): Setting configuration variable GRAPHLAB_FILEIO_ALTERNATIVE_SSL_CERT_FILE to /Users/cottalucas/anaconda2/lib/python2.7/site-packages/certifi/cacert.pem\n",
      "\u001b[0m\u001b[1;32m1450674082 : INFO:     (initialize_globals_from_environment:282): Setting configuration variable GRAPHLAB_FILEIO_ALTERNATIVE_SSL_CERT_DIR to \n",
      "\u001b[0mThis non-commercial license of GraphLab Create is assigned to lucas.oliveira.cotta@gmail.com and will expire on September 25, 2016. For commercial licensing options, visit https://dato.com/buy/.\n",
      "\n",
      "[INFO] Start server at: ipc:///tmp/graphlab_server-885 - Server binary: /Users/cottalucas/anaconda2/lib/python2.7/site-packages/graphlab/unity_server - Server log: /tmp/graphlab_server_1450674082.log\n",
      "[INFO] GraphLab Server Version: 1.7.1\n"
     ]
    }
   ],
   "source": [
    "import graphlab\n",
    "import numpy as np\n",
    "import matplotlib.pyplot as plt"
   ]
  },
  {
   "cell_type": "markdown",
   "metadata": {},
   "source": [
    "# Manipulating Data"
   ]
  },
  {
   "cell_type": "code",
   "execution_count": 53,
   "metadata": {
    "collapsed": false,
    "scrolled": true
   },
   "outputs": [
    {
     "name": "stdout",
     "output_type": "stream",
     "text": [
      "PROGRESS: Finished parsing file /Users/cottalucas/Documents/ML/Braloba Regression/output_last_4months.csv\n",
      "PROGRESS: Parsing completed. Parsed 100 lines in 0.028691 secs.\n",
      "------------------------------------------------------\n",
      "Inferred types from first line of file as \n",
      "column_type_hints=[int,int,int,int]\n",
      "If parsing fails due to incorrect types, you can correct\n",
      "the inferred type list above and pass it to read_csv in\n",
      "the column_type_hints argument\n",
      "------------------------------------------------------\n",
      "PROGRESS: Finished parsing file /Users/cottalucas/Documents/ML/Braloba Regression/output_last_4months.csv\n",
      "PROGRESS: Parsing completed. Parsed 139 lines in 0.011065 secs.\n"
     ]
    },
    {
     "data": {
      "text/html": [
       "<div style=\"max-height:1000px;max-width:1500px;overflow:auto;\"><table frame=\"box\" rules=\"cols\">\n",
       "    <tr>\n",
       "        <th style=\"padding-left: 1em; padding-right: 1em; text-align: center\">Difficult</th>\n",
       "        <th style=\"padding-left: 1em; padding-right: 1em; text-align: center\">Average</th>\n",
       "        <th style=\"padding-left: 1em; padding-right: 1em; text-align: center\">Nan Hai</th>\n",
       "        <th style=\"padding-left: 1em; padding-right: 1em; text-align: center\">Grand Total</th>\n",
       "    </tr>\n",
       "    <tr>\n",
       "        <td style=\"padding-left: 1em; padding-right: 1em; text-align: center; vertical-align: top\">422</td>\n",
       "        <td style=\"padding-left: 1em; padding-right: 1em; text-align: center; vertical-align: top\">182</td>\n",
       "        <td style=\"padding-left: 1em; padding-right: 1em; text-align: center; vertical-align: top\">106</td>\n",
       "        <td style=\"padding-left: 1em; padding-right: 1em; text-align: center; vertical-align: top\">710</td>\n",
       "    </tr>\n",
       "    <tr>\n",
       "        <td style=\"padding-left: 1em; padding-right: 1em; text-align: center; vertical-align: top\">100</td>\n",
       "        <td style=\"padding-left: 1em; padding-right: 1em; text-align: center; vertical-align: top\">324</td>\n",
       "        <td style=\"padding-left: 1em; padding-right: 1em; text-align: center; vertical-align: top\">360</td>\n",
       "        <td style=\"padding-left: 1em; padding-right: 1em; text-align: center; vertical-align: top\">784</td>\n",
       "    </tr>\n",
       "    <tr>\n",
       "        <td style=\"padding-left: 1em; padding-right: 1em; text-align: center; vertical-align: top\">810</td>\n",
       "        <td style=\"padding-left: 1em; padding-right: 1em; text-align: center; vertical-align: top\">0</td>\n",
       "        <td style=\"padding-left: 1em; padding-right: 1em; text-align: center; vertical-align: top\">401</td>\n",
       "        <td style=\"padding-left: 1em; padding-right: 1em; text-align: center; vertical-align: top\">1211</td>\n",
       "    </tr>\n",
       "    <tr>\n",
       "        <td style=\"padding-left: 1em; padding-right: 1em; text-align: center; vertical-align: top\">824</td>\n",
       "        <td style=\"padding-left: 1em; padding-right: 1em; text-align: center; vertical-align: top\">0</td>\n",
       "        <td style=\"padding-left: 1em; padding-right: 1em; text-align: center; vertical-align: top\">576</td>\n",
       "        <td style=\"padding-left: 1em; padding-right: 1em; text-align: center; vertical-align: top\">1400</td>\n",
       "    </tr>\n",
       "    <tr>\n",
       "        <td style=\"padding-left: 1em; padding-right: 1em; text-align: center; vertical-align: top\">0</td>\n",
       "        <td style=\"padding-left: 1em; padding-right: 1em; text-align: center; vertical-align: top\">0</td>\n",
       "        <td style=\"padding-left: 1em; padding-right: 1em; text-align: center; vertical-align: top\">1531</td>\n",
       "        <td style=\"padding-left: 1em; padding-right: 1em; text-align: center; vertical-align: top\">1531</td>\n",
       "    </tr>\n",
       "    <tr>\n",
       "        <td style=\"padding-left: 1em; padding-right: 1em; text-align: center; vertical-align: top\">35</td>\n",
       "        <td style=\"padding-left: 1em; padding-right: 1em; text-align: center; vertical-align: top\">46</td>\n",
       "        <td style=\"padding-left: 1em; padding-right: 1em; text-align: center; vertical-align: top\">854</td>\n",
       "        <td style=\"padding-left: 1em; padding-right: 1em; text-align: center; vertical-align: top\">935</td>\n",
       "    </tr>\n",
       "    <tr>\n",
       "        <td style=\"padding-left: 1em; padding-right: 1em; text-align: center; vertical-align: top\">459</td>\n",
       "        <td style=\"padding-left: 1em; padding-right: 1em; text-align: center; vertical-align: top\">754</td>\n",
       "        <td style=\"padding-left: 1em; padding-right: 1em; text-align: center; vertical-align: top\">12</td>\n",
       "        <td style=\"padding-left: 1em; padding-right: 1em; text-align: center; vertical-align: top\">1225</td>\n",
       "    </tr>\n",
       "    <tr>\n",
       "        <td style=\"padding-left: 1em; padding-right: 1em; text-align: center; vertical-align: top\">0</td>\n",
       "        <td style=\"padding-left: 1em; padding-right: 1em; text-align: center; vertical-align: top\">1273</td>\n",
       "        <td style=\"padding-left: 1em; padding-right: 1em; text-align: center; vertical-align: top\">0</td>\n",
       "        <td style=\"padding-left: 1em; padding-right: 1em; text-align: center; vertical-align: top\">1273</td>\n",
       "    </tr>\n",
       "    <tr>\n",
       "        <td style=\"padding-left: 1em; padding-right: 1em; text-align: center; vertical-align: top\">237</td>\n",
       "        <td style=\"padding-left: 1em; padding-right: 1em; text-align: center; vertical-align: top\">1162</td>\n",
       "        <td style=\"padding-left: 1em; padding-right: 1em; text-align: center; vertical-align: top\">194</td>\n",
       "        <td style=\"padding-left: 1em; padding-right: 1em; text-align: center; vertical-align: top\">1593</td>\n",
       "    </tr>\n",
       "    <tr>\n",
       "        <td style=\"padding-left: 1em; padding-right: 1em; text-align: center; vertical-align: top\">81</td>\n",
       "        <td style=\"padding-left: 1em; padding-right: 1em; text-align: center; vertical-align: top\">852</td>\n",
       "        <td style=\"padding-left: 1em; padding-right: 1em; text-align: center; vertical-align: top\">457</td>\n",
       "        <td style=\"padding-left: 1em; padding-right: 1em; text-align: center; vertical-align: top\">1390</td>\n",
       "    </tr>\n",
       "</table>\n",
       "[139 rows x 4 columns]<br/>Note: Only the head of the SFrame is printed.<br/>You can use print_rows(num_rows=m, num_columns=n) to print more rows and columns.\n",
       "</div>"
      ],
      "text/plain": [
       "Columns:\n",
       "\tDifficult\tint\n",
       "\tAverage\tint\n",
       "\tNan Hai\tint\n",
       "\tGrand Total\tint\n",
       "\n",
       "Rows: 139\n",
       "\n",
       "Data:\n",
       "+-----------+---------+---------+-------------+\n",
       "| Difficult | Average | Nan Hai | Grand Total |\n",
       "+-----------+---------+---------+-------------+\n",
       "|    422    |   182   |   106   |     710     |\n",
       "|    100    |   324   |   360   |     784     |\n",
       "|    810    |    0    |   401   |     1211    |\n",
       "|    824    |    0    |   576   |     1400    |\n",
       "|     0     |    0    |   1531  |     1531    |\n",
       "|     35    |    46   |   854   |     935     |\n",
       "|    459    |   754   |    12   |     1225    |\n",
       "|     0     |   1273  |    0    |     1273    |\n",
       "|    237    |   1162  |   194   |     1593    |\n",
       "|     81    |   852   |   457   |     1390    |\n",
       "+-----------+---------+---------+-------------+\n",
       "[139 rows x 4 columns]\n",
       "Note: Only the head of the SFrame is printed.\n",
       "You can use print_rows(num_rows=m, num_columns=n) to print more rows and columns."
      ]
     },
     "execution_count": 53,
     "metadata": {},
     "output_type": "execute_result"
    }
   ],
   "source": [
    "#\n",
    "# file path\n",
    "path = 'output_last_4months.csv'\n",
    "\n",
    "\n",
    "#\n",
    "# reading method defining the type of each colunm\n",
    "sales = graphlab.SFrame.read_csv(path)\n",
    "\n",
    "sales"
   ]
  },
  {
   "cell_type": "code",
   "execution_count": 54,
   "metadata": {
    "collapsed": false
   },
   "outputs": [],
   "source": [
    "#\n",
    "# divinding the data into training and testing\n",
    "train_data, test_data = sales.random_split(.8,seed=0)"
   ]
  },
  {
   "cell_type": "markdown",
   "metadata": {},
   "source": [
    "# Building the Regression Model"
   ]
  },
  {
   "cell_type": "code",
   "execution_count": 159,
   "metadata": {
    "collapsed": false,
    "scrolled": true
   },
   "outputs": [
    {
     "name": "stdout",
     "output_type": "stream",
     "text": [
      "PROGRESS: Creating a validation set from 5 percent of training data. This may take a while.\n",
      "          You can set ``validation_set=None`` to disable validation tracking.\n",
      "\n",
      "PROGRESS: Linear regression:\n",
      "PROGRESS: --------------------------------------------------------\n",
      "PROGRESS: Number of examples          : 116\n",
      "PROGRESS: Number of features          : 3\n",
      "PROGRESS: Number of unpacked features : 3\n",
      "PROGRESS: Number of coefficients    : 4\n",
      "PROGRESS: Starting Newton Method\n",
      "PROGRESS: --------------------------------------------------------\n",
      "PROGRESS: +-----------+----------+--------------+--------------------+----------------------+---------------+-----------------+\n",
      "PROGRESS: | Iteration | Passes   | Elapsed Time | Training-max_error | Validation-max_error | Training-rmse | Validation-rmse |\n",
      "PROGRESS: +-----------+----------+--------------+--------------------+----------------------+---------------+-----------------+\n",
      "PROGRESS: | 1         | 2        | 0.000555     | 0.926239           | 0.237658             | 0.326514      | 0.138791        |\n",
      "PROGRESS: +-----------+----------+--------------+--------------------+----------------------+---------------+-----------------+\n",
      "PROGRESS: SUCCESS: Optimal solution found.\n",
      "PROGRESS:\n",
      "PROGRESS: Creating a validation set from 5 percent of training data. This may take a while.\n",
      "          You can set ``validation_set=None`` to disable validation tracking.\n",
      "\n",
      "PROGRESS: Linear regression:\n",
      "PROGRESS: --------------------------------------------------------\n",
      "PROGRESS: Number of examples          : 115\n",
      "PROGRESS: Number of features          : 1\n",
      "PROGRESS: Number of unpacked features : 1\n",
      "PROGRESS: Number of coefficients    : 2\n",
      "PROGRESS: Starting Newton Method\n",
      "PROGRESS: --------------------------------------------------------\n",
      "PROGRESS: +-----------+----------+--------------+--------------------+----------------------+---------------+-----------------+\n",
      "PROGRESS: | Iteration | Passes   | Elapsed Time | Training-max_error | Validation-max_error | Training-rmse | Validation-rmse |\n",
      "PROGRESS: +-----------+----------+--------------+--------------------+----------------------+---------------+-----------------+\n",
      "PROGRESS: | 1         | 2        | 0.000470     | 729.866217         | 502.586292           | 262.958227    | 306.851451      |\n",
      "PROGRESS: +-----------+----------+--------------+--------------------+----------------------+---------------+-----------------+\n",
      "PROGRESS: SUCCESS: Optimal solution found.\n",
      "PROGRESS:\n",
      "PROGRESS: Creating a validation set from 5 percent of training data. This may take a while.\n",
      "          You can set ``validation_set=None`` to disable validation tracking.\n",
      "\n",
      "PROGRESS: Linear regression:\n",
      "PROGRESS: --------------------------------------------------------\n",
      "PROGRESS: Number of examples          : 116\n",
      "PROGRESS: Number of features          : 1\n",
      "PROGRESS: Number of unpacked features : 1\n",
      "PROGRESS: Number of coefficients    : 2\n",
      "PROGRESS: Starting Newton Method\n",
      "PROGRESS: --------------------------------------------------------\n",
      "PROGRESS: +-----------+----------+--------------+--------------------+----------------------+---------------+-----------------+\n",
      "PROGRESS: | Iteration | Passes   | Elapsed Time | Training-max_error | Validation-max_error | Training-rmse | Validation-rmse |\n",
      "PROGRESS: +-----------+----------+--------------+--------------------+----------------------+---------------+-----------------+\n",
      "PROGRESS: | 1         | 2        | 0.000475     | 1057.343307        | 589.101771           | 387.985599    | 308.832241      |\n",
      "PROGRESS: +-----------+----------+--------------+--------------------+----------------------+---------------+-----------------+\n",
      "PROGRESS: SUCCESS: Optimal solution found.\n",
      "PROGRESS:\n",
      "PROGRESS: Creating a validation set from 5 percent of training data. This may take a while.\n",
      "          You can set ``validation_set=None`` to disable validation tracking.\n",
      "\n",
      "PROGRESS: Linear regression:\n",
      "PROGRESS: --------------------------------------------------------\n",
      "PROGRESS: Number of examples          : 115\n",
      "PROGRESS: Number of features          : 1\n",
      "PROGRESS: Number of unpacked features : 1\n",
      "PROGRESS: Number of coefficients    : 2\n",
      "PROGRESS: Starting Newton Method\n",
      "PROGRESS: --------------------------------------------------------\n",
      "PROGRESS: +-----------+----------+--------------+--------------------+----------------------+---------------+-----------------+\n",
      "PROGRESS: | Iteration | Passes   | Elapsed Time | Training-max_error | Validation-max_error | Training-rmse | Validation-rmse |\n",
      "PROGRESS: +-----------+----------+--------------+--------------------+----------------------+---------------+-----------------+\n",
      "PROGRESS: | 1         | 2        | 0.000525     | 1031.440574        | 612.795457           | 379.954617    | 422.973169      |\n",
      "PROGRESS: +-----------+----------+--------------+--------------------+----------------------+---------------+-----------------+\n",
      "PROGRESS: SUCCESS: Optimal solution found.\n",
      "PROGRESS:\n"
     ]
    }
   ],
   "source": [
    "#\n",
    "# chosing the features\n",
    "\n",
    "features = ['Difficult', 'Average', 'Nan Hai']\n",
    "features_2 = ['Nan Hai']\n",
    "features_3 = ['Average']\n",
    "features_4 = ['Difficult']\n",
    "\n",
    "model_1 = graphlab.linear_regression.create(train_data, target='Grand Total', features=features)\n",
    "model_2 = graphlab.linear_regression.create(train_data, target='Grand Total', features=features_2)\n",
    "model_3 = graphlab.linear_regression.create(train_data, target='Grand Total', features=features_3)\n",
    "model_4 = graphlab.linear_regression.create(train_data, target='Grand Total', features=features_4)"
   ]
  },
  {
   "cell_type": "markdown",
   "metadata": {},
   "source": [
    "# Data knowledge, exploration and visualization"
   ]
  },
  {
   "cell_type": "code",
   "execution_count": 68,
   "metadata": {
    "collapsed": true
   },
   "outputs": [],
   "source": [
    "import matplotlib.pyplot as plt\n",
    "%matplotlib inline"
   ]
  },
  {
   "cell_type": "markdown",
   "metadata": {},
   "source": [
    "## All Features"
   ]
  },
  {
   "cell_type": "code",
   "execution_count": 163,
   "metadata": {
    "collapsed": false
   },
   "outputs": [
    {
     "data": {
      "text/plain": [
       "[<matplotlib.lines.Line2D at 0x110fe9390>,\n",
       " <matplotlib.lines.Line2D at 0x111e039d0>]"
      ]
     },
     "execution_count": 163,
     "metadata": {},
     "output_type": "execute_result"
    },
    {
     "data": {
      "image/png": "[encoded data removed]",
      "text/plain": [
       "<matplotlib.figure.Figure at 0x112ec97d0>"
      ]
     },
     "metadata": {},
     "output_type": "display_data"
    }
   ],
   "source": [
    "#\n",
    "# Visualization to Model 1\n",
    "\n",
    "plt.plot(train_data['Nan Hai'], train_data['Grand Total'],'.',\n",
    "         train_data['Nan Hai'], model_1.predict(train_data),'-')"
   ]
  },
  {
   "cell_type": "markdown",
   "metadata": {},
   "source": [
    "## Nan Hai"
   ]
  },
  {
   "cell_type": "code",
   "execution_count": 160,
   "metadata": {
    "collapsed": false
   },
   "outputs": [
    {
     "data": {
      "text/plain": [
       "[<matplotlib.lines.Line2D at 0x11307b350>,\n",
       " <matplotlib.lines.Line2D at 0x11307b590>]"
      ]
     },
     "execution_count": 160,
     "metadata": {},
     "output_type": "execute_result"
    },
    {
     "data": {
      "image/png": "[encoded data removed]",
      "text/plain": [
       "<matplotlib.figure.Figure at 0x112c44150>"
      ]
     },
     "metadata": {},
     "output_type": "display_data"
    }
   ],
   "source": [
    "#\n",
    "# Visualization to Model 2\n",
    "\n",
    "plt.plot(train_data['Nan Hai'], train_data['Grand Total'],'.',\n",
    "         train_data['Nan Hai'], model_2.predict(train_data),'-')"
   ]
  },
  {
   "cell_type": "markdown",
   "metadata": {},
   "source": [
    "## Average"
   ]
  },
  {
   "cell_type": "code",
   "execution_count": 166,
   "metadata": {
    "collapsed": false
   },
   "outputs": [
    {
     "data": {
      "text/plain": [
       "[<matplotlib.lines.Line2D at 0x112865a90>,\n",
       " <matplotlib.lines.Line2D at 0x112865cd0>]"
      ]
     },
     "execution_count": 166,
     "metadata": {},
     "output_type": "execute_result"
    },
    {
     "data": {
      "image/png": "[encoded data removed]",
      "text/plain": [
       "<matplotlib.figure.Figure at 0x111b41e50>"
      ]
     },
     "metadata": {},
     "output_type": "display_data"
    }
   ],
   "source": [
    "#\n",
    "# Visualization to Model 3\n",
    "\n",
    "plt.plot(train_data['Average'], train_data['Grand Total'],'.',\n",
    "         train_data['Average'], model_3.predict(train_data),'-')"
   ]
  },
  {
   "cell_type": "markdown",
   "metadata": {},
   "source": [
    "## Difficult"
   ]
  },
  {
   "cell_type": "code",
   "execution_count": 168,
   "metadata": {
    "collapsed": false
   },
   "outputs": [
    {
     "data": {
      "text/plain": [
       "[<matplotlib.lines.Line2D at 0x113666f50>,\n",
       " <matplotlib.lines.Line2D at 0x1136741d0>]"
      ]
     },
     "execution_count": 168,
     "metadata": {},
     "output_type": "execute_result"
    },
    {
     "data": {
      "image/png": "[encoded data removed]",
      "text/plain": [
       "<matplotlib.figure.Figure at 0x113578950>"
      ]
     },
     "metadata": {},
     "output_type": "display_data"
    }
   ],
   "source": [
    "#\n",
    "# Visualization to Model 4\n",
    "\n",
    "plt.plot(train_data['Difficult'], train_data['Grand Total'],'.',\n",
    "         train_data['Difficult'], model_4.predict(train_data),'-')"
   ]
  },
  {
   "cell_type": "markdown",
   "metadata": {},
   "source": [
    "## Values - All"
   ]
  },
  {
   "cell_type": "code",
   "execution_count": 157,
   "metadata": {
    "collapsed": false,
    "scrolled": true
   },
   "outputs": [
    {
     "data": {
      "application/javascript": [
       "$(\"head\").append($(\"<link/>\").attr({\n",
       "  rel:  \"stylesheet\",\n",
       "  type: \"text/css\",\n",
       "  href: \"//cdnjs.cloudflare.com/ajax/libs/font-awesome/4.1.0/css/font-awesome.min.css\"\n",
       "}));\n",
       "$(\"head\").append($(\"<link/>\").attr({\n",
       "  rel:  \"stylesheet\",\n",
       "  type: \"text/css\",\n",
       "  href: \"//dato.com/files/canvas/1.7.1/css/canvas.css\"\n",
       "}));\n",
       "\n",
       "            (function(){\n",
       "\n",
       "                var e = null;\n",
       "                if (typeof element == 'undefined') {\n",
       "                    var scripts = document.getElementsByTagName('script');\n",
       "                    var thisScriptTag = scripts[scripts.length-1];\n",
       "                    var parentDiv = thisScriptTag.parentNode;\n",
       "                    e = document.createElement('div');\n",
       "                    parentDiv.appendChild(e);\n",
       "                } else {\n",
       "                    e = element[0];\n",
       "                }\n",
       "\n",
       "                if (typeof requirejs !== 'undefined') {\n",
       "                    // disable load timeout; ipython_app.js is large and can take a while to load.\n",
       "                    requirejs.config({waitSeconds: 0});\n",
       "                }\n",
       "\n",
       "                require(['//dato.com/files/canvas/1.7.1/js/ipython_app.js'], function(IPythonApp){\n",
       "                    var app = new IPythonApp();\n",
       "                    app.attachView('model','Summary', {\"comparison\": null, \"selected_variable\": {\"comparison\": null, \"name\": [\"model_1\"], \"view_file\": \"model\", \"view_component\": \"Summary\", \"view_params\": {\"model_type\": \"regression\", \"view\": \"Summary\"}, \"view_components\": [\"Summary\", \"Evaluation\", \"Comparison\"], \"model_type\": \"regression\", \"attributes\": {\"section_titles\": [\"Schema\", \"Hyperparameters\", \"Training Summary\", \"Settings\", \"Highest Positive Coefficients\", \"Lowest Negative Coefficients\"], \"sections\": [[[\"Number of coefficients\", 4], [\"Number of examples\", 116], [\"Number of feature columns\", 3], [\"Number of unpacked features\", 3]], [[\"L1 penalty\", 0.0], [\"L2 penalty\", 0.01]], [[\"Solver\", \"auto\"], [\"Solver iterations\", 1], [\"Solver status\", \"SUCCESS: Optimal solution found.\"], [\"Training time (sec)\", 0.0009]], [[\"Residual sum of squares\", 13.366], [\"Training RMSE\", 0.3394]], [[\"(intercept)\", 1.2055], [\"Nan Hai\", 0.9991], [\"Average\", 0.9989], [\"Difficult\", 0.9987]], [[\"No Negative Coefficients\", \"\"]]]}, \"evaluations\": [], \"type\": \"Model\"}, \"ipython\": true, \"view_params\": {\"model_type\": \"regression\", \"view\": \"Summary\"}, \"model_type\": \"regression\", \"attributes\": {\"section_titles\": [\"Schema\", \"Hyperparameters\", \"Training Summary\", \"Settings\", \"Highest Positive Coefficients\", \"Lowest Negative Coefficients\"], \"sections\": [[[\"Number of coefficients\", 4], [\"Number of examples\", 116], [\"Number of feature columns\", 3], [\"Number of unpacked features\", 3]], [[\"L1 penalty\", 0.0], [\"L2 penalty\", 0.01]], [[\"Solver\", \"auto\"], [\"Solver iterations\", 1], [\"Solver status\", \"SUCCESS: Optimal solution found.\"], [\"Training time (sec)\", 0.0009]], [[\"Residual sum of squares\", 13.366], [\"Training RMSE\", 0.3394]], [[\"(intercept)\", 1.2055], [\"Nan Hai\", 0.9991], [\"Average\", 0.9989], [\"Difficult\", 0.9987]], [[\"No Negative Coefficients\", \"\"]]]}, \"evaluations\": []}, e);\n",
       "                });\n",
       "            })();\n",
       "        "
      ]
     },
     "metadata": {},
     "output_type": "display_data"
    }
   ],
   "source": [
    "# Showing the Model 1\n",
    "graphlab.canvas.set_target('ipynb')\n",
    "model_1.show()"
   ]
  },
  {
   "cell_type": "markdown",
   "metadata": {},
   "source": [
    "## Values - Nan Hai"
   ]
  },
  {
   "cell_type": "code",
   "execution_count": 158,
   "metadata": {
    "collapsed": false,
    "scrolled": true
   },
   "outputs": [
    {
     "data": {
      "application/javascript": [
       "$(\"head\").append($(\"<link/>\").attr({\n",
       "  rel:  \"stylesheet\",\n",
       "  type: \"text/css\",\n",
       "  href: \"//cdnjs.cloudflare.com/ajax/libs/font-awesome/4.1.0/css/font-awesome.min.css\"\n",
       "}));\n",
       "$(\"head\").append($(\"<link/>\").attr({\n",
       "  rel:  \"stylesheet\",\n",
       "  type: \"text/css\",\n",
       "  href: \"//dato.com/files/canvas/1.7.1/css/canvas.css\"\n",
       "}));\n",
       "\n",
       "            (function(){\n",
       "\n",
       "                var e = null;\n",
       "                if (typeof element == 'undefined') {\n",
       "                    var scripts = document.getElementsByTagName('script');\n",
       "                    var thisScriptTag = scripts[scripts.length-1];\n",
       "                    var parentDiv = thisScriptTag.parentNode;\n",
       "                    e = document.createElement('div');\n",
       "                    parentDiv.appendChild(e);\n",
       "                } else {\n",
       "                    e = element[0];\n",
       "                }\n",
       "\n",
       "                if (typeof requirejs !== 'undefined') {\n",
       "                    // disable load timeout; ipython_app.js is large and can take a while to load.\n",
       "                    requirejs.config({waitSeconds: 0});\n",
       "                }\n",
       "\n",
       "                require(['//dato.com/files/canvas/1.7.1/js/ipython_app.js'], function(IPythonApp){\n",
       "                    var app = new IPythonApp();\n",
       "                    app.attachView('model','Summary', {\"comparison\": null, \"selected_variable\": {\"comparison\": null, \"name\": [\"model_2\"], \"view_file\": \"model\", \"view_component\": \"Summary\", \"view_params\": {\"model_type\": \"regression\", \"view\": \"Summary\"}, \"view_components\": [\"Summary\", \"Evaluation\", \"Comparison\"], \"model_type\": \"regression\", \"attributes\": {\"section_titles\": [\"Schema\", \"Hyperparameters\", \"Training Summary\", \"Settings\", \"Highest Positive Coefficients\", \"Lowest Negative Coefficients\"], \"sections\": [[[\"Number of coefficients\", 2], [\"Number of examples\", 116], [\"Number of feature columns\", 1], [\"Number of unpacked features\", 1]], [[\"L1 penalty\", 0.0], [\"L2 penalty\", 0.01]], [[\"Solver\", \"auto\"], [\"Solver iterations\", 1], [\"Solver status\", \"SUCCESS: Optimal solution found.\"], [\"Training time (sec)\", 0.001]], [[\"Residual sum of squares\", 7833775.6482], [\"Training RMSE\", 259.8703]], [[\"(intercept)\", 830.1242], [\"Nan Hai\", 0.4699]], [[\"No Negative Coefficients\", \"\"]]]}, \"evaluations\": [], \"type\": \"Model\"}, \"ipython\": true, \"view_params\": {\"model_type\": \"regression\", \"view\": \"Summary\"}, \"model_type\": \"regression\", \"attributes\": {\"section_titles\": [\"Schema\", \"Hyperparameters\", \"Training Summary\", \"Settings\", \"Highest Positive Coefficients\", \"Lowest Negative Coefficients\"], \"sections\": [[[\"Number of coefficients\", 2], [\"Number of examples\", 116], [\"Number of feature columns\", 1], [\"Number of unpacked features\", 1]], [[\"L1 penalty\", 0.0], [\"L2 penalty\", 0.01]], [[\"Solver\", \"auto\"], [\"Solver iterations\", 1], [\"Solver status\", \"SUCCESS: Optimal solution found.\"], [\"Training time (sec)\", 0.001]], [[\"Residual sum of squares\", 7833775.6482], [\"Training RMSE\", 259.8703]], [[\"(intercept)\", 830.1242], [\"Nan Hai\", 0.4699]], [[\"No Negative Coefficients\", \"\"]]]}, \"evaluations\": []}, e);\n",
       "                });\n",
       "            })();\n",
       "        "
      ]
     },
     "metadata": {},
     "output_type": "display_data"
    }
   ],
   "source": [
    "# Showing the Model 2\n",
    "graphlab.canvas.set_target('ipynb')\n",
    "model_2.show()"
   ]
  },
  {
   "cell_type": "markdown",
   "metadata": {},
   "source": [
    "## Values - Average"
   ]
  },
  {
   "cell_type": "code",
   "execution_count": 161,
   "metadata": {
    "collapsed": false,
    "scrolled": true
   },
   "outputs": [
    {
     "data": {
      "application/javascript": [
       "$(\"head\").append($(\"<link/>\").attr({\n",
       "  rel:  \"stylesheet\",\n",
       "  type: \"text/css\",\n",
       "  href: \"//cdnjs.cloudflare.com/ajax/libs/font-awesome/4.1.0/css/font-awesome.min.css\"\n",
       "}));\n",
       "$(\"head\").append($(\"<link/>\").attr({\n",
       "  rel:  \"stylesheet\",\n",
       "  type: \"text/css\",\n",
       "  href: \"//dato.com/files/canvas/1.7.1/css/canvas.css\"\n",
       "}));\n",
       "\n",
       "            (function(){\n",
       "\n",
       "                var e = null;\n",
       "                if (typeof element == 'undefined') {\n",
       "                    var scripts = document.getElementsByTagName('script');\n",
       "                    var thisScriptTag = scripts[scripts.length-1];\n",
       "                    var parentDiv = thisScriptTag.parentNode;\n",
       "                    e = document.createElement('div');\n",
       "                    parentDiv.appendChild(e);\n",
       "                } else {\n",
       "                    e = element[0];\n",
       "                }\n",
       "\n",
       "                if (typeof requirejs !== 'undefined') {\n",
       "                    // disable load timeout; ipython_app.js is large and can take a while to load.\n",
       "                    requirejs.config({waitSeconds: 0});\n",
       "                }\n",
       "\n",
       "                require(['//dato.com/files/canvas/1.7.1/js/ipython_app.js'], function(IPythonApp){\n",
       "                    var app = new IPythonApp();\n",
       "                    app.attachView('model','Summary', {\"comparison\": null, \"selected_variable\": {\"comparison\": null, \"name\": [\"model_3\"], \"view_file\": \"model\", \"view_component\": \"Summary\", \"view_params\": {\"model_type\": \"regression\", \"view\": \"Summary\"}, \"view_components\": [\"Summary\", \"Evaluation\", \"Comparison\"], \"model_type\": \"regression\", \"attributes\": {\"section_titles\": [\"Schema\", \"Hyperparameters\", \"Training Summary\", \"Settings\", \"Highest Positive Coefficients\", \"Lowest Negative Coefficients\"], \"sections\": [[[\"Number of coefficients\", 2], [\"Number of examples\", 116], [\"Number of feature columns\", 1], [\"Number of unpacked features\", 1]], [[\"L1 penalty\", 0.0], [\"L2 penalty\", 0.01]], [[\"Solver\", \"auto\"], [\"Solver iterations\", 1], [\"Solver status\", \"SUCCESS: Optimal solution found.\"], [\"Training time (sec)\", 0.0009]], [[\"Residual sum of squares\", 17461807.7379], [\"Training RMSE\", 387.9856]], [[\"(intercept)\", 1285.1018]], [[\"Average\", -0.0843]]]}, \"evaluations\": [], \"type\": \"Model\"}, \"ipython\": true, \"view_params\": {\"model_type\": \"regression\", \"view\": \"Summary\"}, \"model_type\": \"regression\", \"attributes\": {\"section_titles\": [\"Schema\", \"Hyperparameters\", \"Training Summary\", \"Settings\", \"Highest Positive Coefficients\", \"Lowest Negative Coefficients\"], \"sections\": [[[\"Number of coefficients\", 2], [\"Number of examples\", 116], [\"Number of feature columns\", 1], [\"Number of unpacked features\", 1]], [[\"L1 penalty\", 0.0], [\"L2 penalty\", 0.01]], [[\"Solver\", \"auto\"], [\"Solver iterations\", 1], [\"Solver status\", \"SUCCESS: Optimal solution found.\"], [\"Training time (sec)\", 0.0009]], [[\"Residual sum of squares\", 17461807.7379], [\"Training RMSE\", 387.9856]], [[\"(intercept)\", 1285.1018]], [[\"Average\", -0.0843]]]}, \"evaluations\": []}, e);\n",
       "                });\n",
       "            })();\n",
       "        "
      ]
     },
     "metadata": {},
     "output_type": "display_data"
    }
   ],
   "source": [
    "# Showing the Model 3\n",
    "graphlab.canvas.set_target('ipynb')\n",
    "model_3.show()"
   ]
  },
  {
   "cell_type": "markdown",
   "metadata": {},
   "source": [
    "## Values - Difficult"
   ]
  },
  {
   "cell_type": "code",
   "execution_count": 162,
   "metadata": {
    "collapsed": false,
    "scrolled": true
   },
   "outputs": [
    {
     "data": {
      "application/javascript": [
       "$(\"head\").append($(\"<link/>\").attr({\n",
       "  rel:  \"stylesheet\",\n",
       "  type: \"text/css\",\n",
       "  href: \"//cdnjs.cloudflare.com/ajax/libs/font-awesome/4.1.0/css/font-awesome.min.css\"\n",
       "}));\n",
       "$(\"head\").append($(\"<link/>\").attr({\n",
       "  rel:  \"stylesheet\",\n",
       "  type: \"text/css\",\n",
       "  href: \"//dato.com/files/canvas/1.7.1/css/canvas.css\"\n",
       "}));\n",
       "\n",
       "            (function(){\n",
       "\n",
       "                var e = null;\n",
       "                if (typeof element == 'undefined') {\n",
       "                    var scripts = document.getElementsByTagName('script');\n",
       "                    var thisScriptTag = scripts[scripts.length-1];\n",
       "                    var parentDiv = thisScriptTag.parentNode;\n",
       "                    e = document.createElement('div');\n",
       "                    parentDiv.appendChild(e);\n",
       "                } else {\n",
       "                    e = element[0];\n",
       "                }\n",
       "\n",
       "                if (typeof requirejs !== 'undefined') {\n",
       "                    // disable load timeout; ipython_app.js is large and can take a while to load.\n",
       "                    requirejs.config({waitSeconds: 0});\n",
       "                }\n",
       "\n",
       "                require(['//dato.com/files/canvas/1.7.1/js/ipython_app.js'], function(IPythonApp){\n",
       "                    var app = new IPythonApp();\n",
       "                    app.attachView('model','Summary', {\"comparison\": null, \"selected_variable\": {\"comparison\": null, \"name\": [\"model_4\"], \"view_file\": \"model\", \"view_component\": \"Summary\", \"view_params\": {\"model_type\": \"regression\", \"view\": \"Summary\"}, \"view_components\": [\"Summary\", \"Evaluation\", \"Comparison\"], \"model_type\": \"regression\", \"attributes\": {\"section_titles\": [\"Schema\", \"Hyperparameters\", \"Training Summary\", \"Settings\", \"Highest Positive Coefficients\", \"Lowest Negative Coefficients\"], \"sections\": [[[\"Number of coefficients\", 2], [\"Number of examples\", 115], [\"Number of feature columns\", 1], [\"Number of unpacked features\", 1]], [[\"L1 penalty\", 0.0], [\"L2 penalty\", 0.01]], [[\"Solver\", \"auto\"], [\"Solver iterations\", 1], [\"Solver status\", \"SUCCESS: Optimal solution found.\"], [\"Training time (sec)\", 0.0011]], [[\"Residual sum of squares\", 16602033.7789], [\"Training RMSE\", 379.9546]], [[\"(intercept)\", 1264.0012]], [[\"Difficult\", -0.3475]]]}, \"evaluations\": [], \"type\": \"Model\"}, \"ipython\": true, \"view_params\": {\"model_type\": \"regression\", \"view\": \"Summary\"}, \"model_type\": \"regression\", \"attributes\": {\"section_titles\": [\"Schema\", \"Hyperparameters\", \"Training Summary\", \"Settings\", \"Highest Positive Coefficients\", \"Lowest Negative Coefficients\"], \"sections\": [[[\"Number of coefficients\", 2], [\"Number of examples\", 115], [\"Number of feature columns\", 1], [\"Number of unpacked features\", 1]], [[\"L1 penalty\", 0.0], [\"L2 penalty\", 0.01]], [[\"Solver\", \"auto\"], [\"Solver iterations\", 1], [\"Solver status\", \"SUCCESS: Optimal solution found.\"], [\"Training time (sec)\", 0.0011]], [[\"Residual sum of squares\", 16602033.7789], [\"Training RMSE\", 379.9546]], [[\"(intercept)\", 1264.0012]], [[\"Difficult\", -0.3475]]]}, \"evaluations\": []}, e);\n",
       "                });\n",
       "            })();\n",
       "        "
      ]
     },
     "metadata": {},
     "output_type": "display_data"
    }
   ],
   "source": [
    "# Showing the Model 4\n",
    "graphlab.canvas.set_target('ipynb')\n",
    "model_4.show()"
   ]
  },
  {
   "cell_type": "markdown",
   "metadata": {},
   "source": [
    "## Features Summary"
   ]
  },
  {
   "cell_type": "code",
   "execution_count": 57,
   "metadata": {
    "collapsed": false,
    "scrolled": false
   },
   "outputs": [
    {
     "data": {
      "application/javascript": [
       "$(\"head\").append($(\"<link/>\").attr({\n",
       "  rel:  \"stylesheet\",\n",
       "  type: \"text/css\",\n",
       "  href: \"//cdnjs.cloudflare.com/ajax/libs/font-awesome/4.1.0/css/font-awesome.min.css\"\n",
       "}));\n",
       "$(\"head\").append($(\"<link/>\").attr({\n",
       "  rel:  \"stylesheet\",\n",
       "  type: \"text/css\",\n",
       "  href: \"//dato.com/files/canvas/1.7.1/css/canvas.css\"\n",
       "}));\n",
       "\n",
       "            (function(){\n",
       "\n",
       "                var e = null;\n",
       "                if (typeof element == 'undefined') {\n",
       "                    var scripts = document.getElementsByTagName('script');\n",
       "                    var thisScriptTag = scripts[scripts.length-1];\n",
       "                    var parentDiv = thisScriptTag.parentNode;\n",
       "                    e = document.createElement('div');\n",
       "                    parentDiv.appendChild(e);\n",
       "                } else {\n",
       "                    e = element[0];\n",
       "                }\n",
       "\n",
       "                if (typeof requirejs !== 'undefined') {\n",
       "                    // disable load timeout; ipython_app.js is large and can take a while to load.\n",
       "                    requirejs.config({waitSeconds: 0});\n",
       "                }\n",
       "\n",
       "                require(['//dato.com/files/canvas/1.7.1/js/ipython_app.js'], function(IPythonApp){\n",
       "                    var app = new IPythonApp();\n",
       "                    app.attachView('sframe','Summary', {\"ipython\": true, \"sketch\": {\"Average\": {\"std\": 390.8871641729358, \"complete\": true, \"min\": 0.0, \"max\": 1471.0, \"quantile\": [0.0, 0.0, 0.0, 0.0, 0.0, 0.0, 0.0, 0.0, 0.0, 0.0, 0.0, 0.0, 0.0, 0.0, 0.0, 0.0, 0.0, 0.0, 0.0, 0.0, 0.0, 0.0, 0.0, 0.0, 0.0, 0.0, 0.0, 0.0, 0.0, 0.0, 0.0, 0.0, 0.0, 0.0, 0.0, 0.0, 0.0, 0.0, 0.0, 0.0, 1.0, 4.0, 9.0, 14.0, 20.0, 28.0, 33.0, 38.0, 46.0, 50.0, 61.0, 63.0, 67.0, 69.0, 80.0, 83.0, 86.0, 100.0, 100.0, 177.0, 182.0, 188.0, 197.0, 201.0, 233.0, 262.0, 266.0, 312.0, 313.0, 320.0, 330.0, 331.0, 366.0, 379.0, 400.0, 485.0, 501.0, 515.0, 530.0, 566.0, 613.0, 621.0, 708.0, 723.0, 746.0, 773.0, 835.0, 852.0, 865.0, 905.0, 950.0, 972.0, 1035.0, 1059.0, 1077.0, 1162.0, 1189.0, 1231.0, 1309.0, 1391.0, 1471.0], \"median\": 61.0, \"numeric\": true, \"num_unique\": 82, \"num_undefined\": 0, \"var\": 152792.77511515966, \"progress\": 1.0, \"size\": 139, \"frequent_items\": {\"0\": {\"frequency\": 55, \"value\": 0}, \"1\": {\"frequency\": 1, \"value\": 1}, \"515\": {\"frequency\": 1, \"value\": 515}, \"4\": {\"frequency\": 1, \"value\": 4}, \"773\": {\"frequency\": 1, \"value\": 773}, \"262\": {\"frequency\": 1, \"value\": 262}, \"257\": {\"frequency\": 1, \"value\": 257}, \"905\": {\"frequency\": 1, \"value\": 905}, \"1162\": {\"frequency\": 1, \"value\": 1162}, \"1035\": {\"frequency\": 1, \"value\": 1035}, \"14\": {\"frequency\": 1, \"value\": 14}, \"400\": {\"frequency\": 1, \"value\": 400}, \"530\": {\"frequency\": 1, \"value\": 530}, \"195\": {\"frequency\": 1, \"value\": 195}, \"20\": {\"frequency\": 1, \"value\": 20}, \"61\": {\"frequency\": 1, \"value\": 61}, \"708\": {\"frequency\": 1, \"value\": 708}, \"28\": {\"frequency\": 1, \"value\": 28}, \"1309\": {\"frequency\": 1, \"value\": 1309}, \"69\": {\"frequency\": 1, \"value\": 69}, \"287\": {\"frequency\": 1, \"value\": 287}, \"1056\": {\"frequency\": 1, \"value\": 1056}, \"33\": {\"frequency\": 1, \"value\": 33}, \"1059\": {\"frequency\": 1, \"value\": 1059}, \"36\": {\"frequency\": 1, \"value\": 36}, \"6\": {\"frequency\": 1, \"value\": 6}, \"38\": {\"frequency\": 1, \"value\": 38}, \"330\": {\"frequency\": 1, \"value\": 330}, \"46\": {\"frequency\": 1, \"value\": 46}, \"177\": {\"frequency\": 1, \"value\": 177}, \"50\": {\"frequency\": 2, \"value\": 50}, \"1189\": {\"frequency\": 1, \"value\": 1189}, \"513\": {\"frequency\": 1, \"value\": 513}, \"949\": {\"frequency\": 1, \"value\": 949}, \"566\": {\"frequency\": 1, \"value\": 566}, \"9\": {\"frequency\": 1, \"value\": 9}, \"312\": {\"frequency\": 1, \"value\": 312}, \"313\": {\"frequency\": 1, \"value\": 313}, \"188\": {\"frequency\": 1, \"value\": 188}, \"266\": {\"frequency\": 1, \"value\": 266}, \"1471\": {\"frequency\": 1, \"value\": 1471}, \"448\": {\"frequency\": 1, \"value\": 448}, \"63\": {\"frequency\": 1, \"value\": 63}, \"66\": {\"frequency\": 1, \"value\": 66}, \"835\": {\"frequency\": 1, \"value\": 835}, \"324\": {\"frequency\": 1, \"value\": 324}, \"197\": {\"frequency\": 1, \"value\": 197}, \"353\": {\"frequency\": 1, \"value\": 353}, \"201\": {\"frequency\": 1, \"value\": 201}, \"74\": {\"frequency\": 1, \"value\": 74}, \"715\": {\"frequency\": 1, \"value\": 715}, \"972\": {\"frequency\": 1, \"value\": 972}, \"590\": {\"frequency\": 1, \"value\": 590}, \"1231\": {\"frequency\": 1, \"value\": 1231}, \"80\": {\"frequency\": 1, \"value\": 80}, \"320\": {\"frequency\": 1, \"value\": 320}, \"723\": {\"frequency\": 1, \"value\": 723}, \"852\": {\"frequency\": 1, \"value\": 852}, \"86\": {\"frequency\": 1, \"value\": 86}, \"87\": {\"frequency\": 1, \"value\": 87}, \"331\": {\"frequency\": 1, \"value\": 331}, \"1077\": {\"frequency\": 1, \"value\": 1077}, \"182\": {\"frequency\": 1, \"value\": 182}, \"865\": {\"frequency\": 2, \"value\": 865}, \"67\": {\"frequency\": 1, \"value\": 67}, \"100\": {\"frequency\": 2, \"value\": 100}, \"613\": {\"frequency\": 1, \"value\": 613}, \"16\": {\"frequency\": 1, \"value\": 16}, \"104\": {\"frequency\": 1, \"value\": 104}, \"233\": {\"frequency\": 1, \"value\": 233}, \"746\": {\"frequency\": 1, \"value\": 746}, \"485\": {\"frequency\": 1, \"value\": 485}, \"621\": {\"frequency\": 1, \"value\": 621}, \"366\": {\"frequency\": 1, \"value\": 366}, \"1391\": {\"frequency\": 1, \"value\": 1391}, \"1137\": {\"frequency\": 1, \"value\": 1137}, \"754\": {\"frequency\": 1, \"value\": 754}, \"83\": {\"frequency\": 1, \"value\": 83}, \"501\": {\"frequency\": 1, \"value\": 501}, \"950\": {\"frequency\": 1, \"value\": 950}, \"1273\": {\"frequency\": 1, \"value\": 1273}, \"379\": {\"frequency\": 1, \"value\": 379}}, \"mean\": 278.0431654676259}, \"Nan Hai\": {\"std\": 597.4064359961991, \"complete\": true, \"min\": 0.0, \"max\": 2208.0, \"quantile\": [0.0, 0.0, 0.0, 0.0, 0.0, 0.0, 0.0, 0.0, 0.0, 0.0, 0.0, 0.0, 0.0, 11.0, 12.0, 34.0, 56.0, 57.0, 120.0, 126.0, 148.0, 198.0, 202.0, 205.0, 255.0, 360.0, 401.0, 416.0, 417.0, 457.0, 468.0, 576.0, 583.0, 644.0, 668.0, 670.0, 695.0, 696.0, 703.0, 730.0, 735.0, 817.0, 870.0, 880.0, 919.0, 923.0, 932.0, 1001.0, 1013.0, 1043.0, 1050.0, 1059.0, 1070.0, 1078.0, 1146.0, 1148.0, 1149.0, 1182.0, 1184.0, 1200.0, 1200.0, 1204.0, 1227.0, 1247.0, 1254.0, 1256.0, 1263.0, 1281.0, 1293.0, 1294.0, 1318.0, 1331.0, 1335.0, 1349.0, 1352.0, 1373.0, 1388.0, 1418.0, 1421.0, 1431.0, 1436.0, 1437.0, 1471.0, 1517.0, 1531.0, 1537.0, 1543.0, 1543.0, 1583.0, 1586.0, 1604.0, 1610.0, 1634.0, 1677.0, 1679.0, 1738.0, 1810.0, 1819.0, 1980.0, 2017.0, 2208.0], \"median\": 1050.0, \"numeric\": true, \"num_unique\": 120, \"num_undefined\": 0, \"var\": 356894.4497696807, \"progress\": 1.0, \"size\": 139, \"frequent_items\": {\"0\": {\"frequency\": 17, \"value\": 0}, \"1537\": {\"frequency\": 1, \"value\": 1537}, \"6\": {\"frequency\": 1, \"value\": 6}, \"1543\": {\"frequency\": 2, \"value\": 1543}, \"684\": {\"frequency\": 1, \"value\": 684}, \"1034\": {\"frequency\": 1, \"value\": 1034}, \"11\": {\"frequency\": 1, \"value\": 11}, \"12\": {\"frequency\": 1, \"value\": 12}, \"1554\": {\"frequency\": 1, \"value\": 1554}, \"1043\": {\"frequency\": 1, \"value\": 1043}, \"1050\": {\"frequency\": 1, \"value\": 1050}, \"34\": {\"frequency\": 1, \"value\": 34}, \"1059\": {\"frequency\": 1, \"value\": 1059}, \"1060\": {\"frequency\": 1, \"value\": 1060}, \"1070\": {\"frequency\": 1, \"value\": 1070}, \"1583\": {\"frequency\": 1, \"value\": 1583}, \"1586\": {\"frequency\": 1, \"value\": 1586}, \"1078\": {\"frequency\": 1, \"value\": 1078}, \"55\": {\"frequency\": 1, \"value\": 55}, \"56\": {\"frequency\": 1, \"value\": 56}, \"1081\": {\"frequency\": 1, \"value\": 1081}, \"576\": {\"frequency\": 1, \"value\": 576}, \"1602\": {\"frequency\": 1, \"value\": 1602}, \"1604\": {\"frequency\": 1, \"value\": 1604}, \"583\": {\"frequency\": 1, \"value\": 583}, \"1610\": {\"frequency\": 1, \"value\": 1610}, \"1634\": {\"frequency\": 1, \"value\": 1634}, \"1980\": {\"frequency\": 1, \"value\": 1980}, \"1642\": {\"frequency\": 1, \"value\": 1642}, \"106\": {\"frequency\": 1, \"value\": 106}, \"120\": {\"frequency\": 1, \"value\": 120}, \"1146\": {\"frequency\": 1, \"value\": 1146}, \"1148\": {\"frequency\": 1, \"value\": 1148}, \"1149\": {\"frequency\": 1, \"value\": 1149}, \"126\": {\"frequency\": 1, \"value\": 126}, \"644\": {\"frequency\": 1, \"value\": 644}, \"1677\": {\"frequency\": 1, \"value\": 1677}, \"1679\": {\"frequency\": 1, \"value\": 1679}, \"148\": {\"frequency\": 1, \"value\": 148}, \"1687\": {\"frequency\": 1, \"value\": 1687}, \"668\": {\"frequency\": 1, \"value\": 668}, \"670\": {\"frequency\": 1, \"value\": 670}, \"1184\": {\"frequency\": 1, \"value\": 1184}, \"1196\": {\"frequency\": 1, \"value\": 1196}, \"1200\": {\"frequency\": 2, \"value\": 1200}, \"1204\": {\"frequency\": 1, \"value\": 1204}, \"695\": {\"frequency\": 1, \"value\": 695}, \"696\": {\"frequency\": 1, \"value\": 696}, \"1738\": {\"frequency\": 1, \"value\": 1738}, \"703\": {\"frequency\": 1, \"value\": 703}, \"704\": {\"frequency\": 1, \"value\": 704}, \"194\": {\"frequency\": 1, \"value\": 194}, \"198\": {\"frequency\": 1, \"value\": 198}, \"1224\": {\"frequency\": 1, \"value\": 1224}, \"202\": {\"frequency\": 1, \"value\": 202}, \"1227\": {\"frequency\": 1, \"value\": 1227}, \"205\": {\"frequency\": 1, \"value\": 205}, \"730\": {\"frequency\": 1, \"value\": 730}, \"735\": {\"frequency\": 1, \"value\": 735}, \"1318\": {\"frequency\": 1, \"value\": 1318}, \"1254\": {\"frequency\": 2, \"value\": 1254}, \"1256\": {\"frequency\": 1, \"value\": 1256}, \"1263\": {\"frequency\": 1, \"value\": 1263}, \"241\": {\"frequency\": 1, \"value\": 241}, \"1279\": {\"frequency\": 1, \"value\": 1279}, \"1281\": {\"frequency\": 1, \"value\": 1281}, \"1293\": {\"frequency\": 1, \"value\": 1293}, \"1294\": {\"frequency\": 1, \"value\": 1294}, \"1810\": {\"frequency\": 1, \"value\": 1810}, \"1819\": {\"frequency\": 1, \"value\": 1819}, \"1314\": {\"frequency\": 1, \"value\": 1314}, \"1830\": {\"frequency\": 1, \"value\": 1830}, \"817\": {\"frequency\": 1, \"value\": 817}, \"1331\": {\"frequency\": 1, \"value\": 1331}, \"1334\": {\"frequency\": 1, \"value\": 1334}, \"1335\": {\"frequency\": 1, \"value\": 1335}, \"1247\": {\"frequency\": 1, \"value\": 1247}, \"1349\": {\"frequency\": 1, \"value\": 1349}, \"1352\": {\"frequency\": 1, \"value\": 1352}, \"1365\": {\"frequency\": 1, \"value\": 1365}, \"854\": {\"frequency\": 1, \"value\": 854}, \"57\": {\"frequency\": 1, \"value\": 57}, \"1167\": {\"frequency\": 1, \"value\": 1167}, \"1373\": {\"frequency\": 1, \"value\": 1373}, \"870\": {\"frequency\": 1, \"value\": 870}, \"360\": {\"frequency\": 1, \"value\": 360}, \"1388\": {\"frequency\": 1, \"value\": 1388}, \"880\": {\"frequency\": 1, \"value\": 880}, \"1400\": {\"frequency\": 1, \"value\": 1400}, \"660\": {\"frequency\": 1, \"value\": 660}, \"379\": {\"frequency\": 1, \"value\": 379}, \"894\": {\"frequency\": 1, \"value\": 894}, \"1418\": {\"frequency\": 1, \"value\": 1418}, \"919\": {\"frequency\": 1, \"value\": 919}, \"1421\": {\"frequency\": 1, \"value\": 1421}, \"401\": {\"frequency\": 1, \"value\": 401}, \"1431\": {\"frequency\": 1, \"value\": 1431}, \"1433\": {\"frequency\": 1, \"value\": 1433}, \"923\": {\"frequency\": 1, \"value\": 923}, \"1436\": {\"frequency\": 1, \"value\": 1436}, \"1437\": {\"frequency\": 1, \"value\": 1437}, \"416\": {\"frequency\": 1, \"value\": 416}, \"417\": {\"frequency\": 1, \"value\": 417}, \"932\": {\"frequency\": 1, \"value\": 932}, \"1182\": {\"frequency\": 1, \"value\": 1182}, \"444\": {\"frequency\": 1, \"value\": 444}, \"1471\": {\"frequency\": 1, \"value\": 1471}, \"2208\": {\"frequency\": 1, \"value\": 2208}, \"457\": {\"frequency\": 1, \"value\": 457}, \"1488\": {\"frequency\": 1, \"value\": 1488}, \"468\": {\"frequency\": 1, \"value\": 468}, \"2017\": {\"frequency\": 1, \"value\": 2017}, \"482\": {\"frequency\": 1, \"value\": 482}, \"995\": {\"frequency\": 1, \"value\": 995}, \"1001\": {\"frequency\": 1, \"value\": 1001}, \"1517\": {\"frequency\": 1, \"value\": 1517}, \"255\": {\"frequency\": 1, \"value\": 255}, \"1013\": {\"frequency\": 1, \"value\": 1013}, \"1531\": {\"frequency\": 1, \"value\": 1531}, \"1534\": {\"frequency\": 1, \"value\": 1534}}, \"mean\": 904.158273381295}, \"Difficult\": {\"std\": 160.68050255539524, \"complete\": true, \"min\": 0.0, \"max\": 824.0, \"quantile\": [0.0, 0.0, 0.0, 0.0, 0.0, 0.0, 0.0, 0.0, 0.0, 0.0, 0.0, 0.0, 0.0, 0.0, 0.0, 0.0, 0.0, 0.0, 0.0, 0.0, 0.0, 0.0, 0.0, 0.0, 0.0, 0.0, 0.0, 0.0, 0.0, 0.0, 0.0, 0.0, 0.0, 0.0, 0.0, 0.0, 0.0, 0.0, 0.0, 0.0, 0.0, 0.0, 0.0, 0.0, 0.0, 0.0, 0.0, 0.0, 0.0, 0.0, 0.0, 0.0, 0.0, 0.0, 0.0, 0.0, 0.0, 2.0, 5.0, 6.0, 6.0, 8.0, 16.0, 17.0, 18.0, 23.0, 26.0, 30.0, 31.0, 35.0, 40.0, 51.0, 58.0, 60.0, 61.0, 67.0, 70.0, 80.0, 81.0, 84.0, 100.0, 103.0, 106.0, 121.0, 132.0, 135.0, 151.0, 164.0, 178.0, 180.0, 232.0, 237.0, 382.0, 439.0, 452.0, 500.0, 500.0, 501.0, 702.0, 810.0, 824.0], \"median\": 0.0, \"numeric\": true, \"num_unique\": 56, \"num_undefined\": 0, \"var\": 25818.223901454377, \"progress\": 1.0, \"size\": 139, \"frequent_items\": {\"0\": {\"frequency\": 79, \"value\": 0}, \"2\": {\"frequency\": 1, \"value\": 2}, \"132\": {\"frequency\": 2, \"value\": 132}, \"5\": {\"frequency\": 2, \"value\": 5}, \"6\": {\"frequency\": 2, \"value\": 6}, \"135\": {\"frequency\": 1, \"value\": 135}, \"8\": {\"frequency\": 1, \"value\": 8}, \"151\": {\"frequency\": 1, \"value\": 151}, \"12\": {\"frequency\": 1, \"value\": 12}, \"16\": {\"frequency\": 1, \"value\": 16}, \"17\": {\"frequency\": 1, \"value\": 17}, \"18\": {\"frequency\": 1, \"value\": 18}, \"20\": {\"frequency\": 1, \"value\": 20}, \"23\": {\"frequency\": 1, \"value\": 23}, \"26\": {\"frequency\": 1, \"value\": 26}, \"27\": {\"frequency\": 1, \"value\": 27}, \"30\": {\"frequency\": 1, \"value\": 30}, \"31\": {\"frequency\": 1, \"value\": 31}, \"35\": {\"frequency\": 1, \"value\": 35}, \"164\": {\"frequency\": 1, \"value\": 164}, \"37\": {\"frequency\": 1, \"value\": 37}, \"422\": {\"frequency\": 1, \"value\": 422}, \"40\": {\"frequency\": 1, \"value\": 40}, \"810\": {\"frequency\": 1, \"value\": 810}, \"172\": {\"frequency\": 1, \"value\": 172}, \"178\": {\"frequency\": 1, \"value\": 178}, \"51\": {\"frequency\": 2, \"value\": 51}, \"180\": {\"frequency\": 1, \"value\": 180}, \"439\": {\"frequency\": 1, \"value\": 439}, \"824\": {\"frequency\": 1, \"value\": 824}, \"58\": {\"frequency\": 1, \"value\": 58}, \"60\": {\"frequency\": 1, \"value\": 60}, \"61\": {\"frequency\": 1, \"value\": 61}, \"702\": {\"frequency\": 1, \"value\": 702}, \"64\": {\"frequency\": 1, \"value\": 64}, \"67\": {\"frequency\": 1, \"value\": 67}, \"452\": {\"frequency\": 1, \"value\": 452}, \"70\": {\"frequency\": 1, \"value\": 70}, \"71\": {\"frequency\": 1, \"value\": 71}, \"201\": {\"frequency\": 1, \"value\": 201}, \"459\": {\"frequency\": 1, \"value\": 459}, \"80\": {\"frequency\": 1, \"value\": 80}, \"81\": {\"frequency\": 1, \"value\": 81}, \"84\": {\"frequency\": 1, \"value\": 84}, \"603\": {\"frequency\": 1, \"value\": 603}, \"96\": {\"frequency\": 1, \"value\": 96}, \"100\": {\"frequency\": 1, \"value\": 100}, \"103\": {\"frequency\": 1, \"value\": 103}, \"232\": {\"frequency\": 1, \"value\": 232}, \"106\": {\"frequency\": 1, \"value\": 106}, \"237\": {\"frequency\": 1, \"value\": 237}, \"110\": {\"frequency\": 1, \"value\": 110}, \"500\": {\"frequency\": 2, \"value\": 500}, \"501\": {\"frequency\": 1, \"value\": 501}, \"121\": {\"frequency\": 1, \"value\": 121}, \"382\": {\"frequency\": 1, \"value\": 382}}, \"mean\": 74.14388489208632}}, \"selected_variable\": {\"name\": [\"<SFrame>\"], \"descriptives\": {\"rows\": 139, \"columns\": 3}, \"view_component\": \"Summary\", \"view_file\": \"sframe\", \"view_params\": {\"y\": null, \"x\": null, \"columns\": [\"Difficult\", \"Average\", \"Nan Hai\"], \"view\": null}, \"view_components\": [\"Summary\", \"Table\", \"Bar Chart\", \"BoxWhisker Plot\", \"Line Chart\", \"Scatter Plot\", \"Heat Map\", \"Plots\"], \"type\": \"SFrame\", \"columns\": [{\"dtype\": \"int\", \"name\": \"Difficult\"}, {\"dtype\": \"int\", \"name\": \"Average\"}, {\"dtype\": \"int\", \"name\": \"Nan Hai\"}], \"column_identifiers\": [\"Average\", \"Nan Hai\", \"Difficult\"]}, \"columns\": [{\"dtype\": \"int\", \"name\": \"Difficult\"}, {\"dtype\": \"int\", \"name\": \"Average\"}, {\"dtype\": \"int\", \"name\": \"Nan Hai\"}]}, e);\n",
       "                });\n",
       "            })();\n",
       "        "
      ]
     },
     "metadata": {},
     "output_type": "display_data"
    }
   ],
   "source": [
    "sales[features].show()"
   ]
  },
  {
   "cell_type": "markdown",
   "metadata": {},
   "source": [
    "## Nan Hai"
   ]
  },
  {
   "cell_type": "code",
   "execution_count": 170,
   "metadata": {
    "collapsed": false
   },
   "outputs": [
    {
     "data": {
      "application/javascript": [
       "$(\"head\").append($(\"<link/>\").attr({\n",
       "  rel:  \"stylesheet\",\n",
       "  type: \"text/css\",\n",
       "  href: \"//cdnjs.cloudflare.com/ajax/libs/font-awesome/4.1.0/css/font-awesome.min.css\"\n",
       "}));\n",
       "$(\"head\").append($(\"<link/>\").attr({\n",
       "  rel:  \"stylesheet\",\n",
       "  type: \"text/css\",\n",
       "  href: \"//dato.com/files/canvas/1.7.1/css/canvas.css\"\n",
       "}));\n",
       "\n",
       "            (function(){\n",
       "\n",
       "                var e = null;\n",
       "                if (typeof element == 'undefined') {\n",
       "                    var scripts = document.getElementsByTagName('script');\n",
       "                    var thisScriptTag = scripts[scripts.length-1];\n",
       "                    var parentDiv = thisScriptTag.parentNode;\n",
       "                    e = document.createElement('div');\n",
       "                    parentDiv.appendChild(e);\n",
       "                } else {\n",
       "                    e = element[0];\n",
       "                }\n",
       "\n",
       "                if (typeof requirejs !== 'undefined') {\n",
       "                    // disable load timeout; ipython_app.js is large and can take a while to load.\n",
       "                    requirejs.config({waitSeconds: 0});\n",
       "                }\n",
       "\n",
       "                require(['//dato.com/files/canvas/1.7.1/js/ipython_app.js'], function(IPythonApp){\n",
       "                    var app = new IPythonApp();\n",
       "                    app.attachView('sframe','Plots', {\"selected_variable\": {\"name\": [\"sales\"], \"descriptives\": {\"rows\": 139, \"columns\": 4}, \"view_component\": \"Plots\", \"view_file\": \"sframe\", \"view_params\": {\"y\": \"Grand Total\", \"x\": \"Nan Hai\", \"columns\": [\"Difficult\", \"Average\", \"Nan Hai\", \"Grand Total\"], \"view\": \"Scatter Plot\"}, \"view_components\": [\"Summary\", \"Table\", \"Bar Chart\", \"BoxWhisker Plot\", \"Line Chart\", \"Scatter Plot\", \"Heat Map\", \"Plots\"], \"type\": \"SFrame\", \"columns\": [{\"dtype\": \"int\", \"name\": \"Difficult\"}, {\"dtype\": \"int\", \"name\": \"Average\"}, {\"dtype\": \"int\", \"name\": \"Nan Hai\"}, {\"dtype\": \"int\", \"name\": \"Grand Total\"}], \"column_identifiers\": [\"Average\", \"Difficult\", \"Nan Hai\", \"Grand Total\"]}, \"complete\": 1, \"ipython\": true, \"progress\": 1.0, \"data\": [[106, 710], [360, 784], [401, 1211], [576, 1400], [1531, 1531], [854, 935], [12, 1225], [0, 1273], [194, 1593], [457, 1390], [0, 1016], [0, 918], [0, 1231], [0, 1315], [0, 1056], [0, 1059], [0, 1137], [120, 835], [34, 1425], [11, 795], [684, 1263], [695, 957], [255, 1102], [205, 1215], [1196, 1523], [870, 1249], [1070, 1571], [1294, 1607], [1431, 1517], [379, 1284], [6, 1083], [817, 1407], [1679, 1685], [1400, 1401], [1534, 1534], [1050, 1050], [644, 644], [1043, 1043], [1081, 1081], [1224, 1224], [416, 416], [1263, 1383], [1034, 1034], [1001, 1001], [1204, 1227], [1830, 1835], [1677, 1677], [1437, 1437], [894, 960], [202, 227], [0, 453], [0, 967], [0, 1207], [0, 1000], [703, 881], [932, 938], [482, 482], [730, 791], [1349, 1408], [923, 1118], [696, 696], [919, 919], [2017, 2017], [1293, 1293], [1980, 1980], [670, 706], [1227, 1227], [1149, 1200], [1148, 1148], [1365, 1365], [1200, 1200], [1146, 1146], [1819, 1819], [583, 1083], [1418, 1418], [1281, 1368], [0, 773], [0, 708], [55, 1027], [0, 873], [1610, 2095], [1184, 1441], [1602, 1602], [1687, 1687], [1352, 1402], [1583, 1633], [1537, 1537], [1634, 1766], [1388, 1471], [1421, 1421], [1167, 1400], [1335, 1402], [1318, 1356], [444, 1510], [198, 1669], [1488, 1800], [1642, 1726], [1200, 1200], [1586, 1716], [1279, 1281], [1254, 1316], [668, 698], [0, 580], [735, 1526], [1517, 1727], [880, 1200], [468, 1000], [0, 685], [57, 833], [1314, 1314], [1604, 1604], [1373, 1469], [1543, 1548], [1810, 1810], [995, 1015], [1436, 1436], [1433, 1433], [1059, 1260], [1471, 1551], [1331, 1452], [126, 643], [1060, 1160], [148, 392], [56, 669], [1334, 1511], [704, 1106], [241, 1003], [1543, 1613], [1738, 1841], [1256, 1362], [1078, 1121], [1254, 1472], [660, 1013], [417, 1184], [1247, 1577], [1013, 2048], [1182, 1827], [2208, 2208], [1554, 1623]], \"columns\": [{\"dtype\": \"int\", \"name\": \"Difficult\"}, {\"dtype\": \"int\", \"name\": \"Average\"}, {\"dtype\": \"int\", \"name\": \"Nan Hai\"}, {\"dtype\": \"int\", \"name\": \"Grand Total\"}]}, e);\n",
       "                });\n",
       "            })();\n",
       "        "
      ]
     },
     "metadata": {},
     "output_type": "display_data"
    }
   ],
   "source": [
    "graphlab.canvas.set_target('ipynb')\n",
    "\n",
    "sales.show(view='Scatter Plot', x='Nan Hai', y='Grand Total')"
   ]
  },
  {
   "cell_type": "markdown",
   "metadata": {},
   "source": [
    "## Average"
   ]
  },
  {
   "cell_type": "code",
   "execution_count": 173,
   "metadata": {
    "collapsed": false
   },
   "outputs": [
    {
     "data": {
      "application/javascript": [
       "$(\"head\").append($(\"<link/>\").attr({\n",
       "  rel:  \"stylesheet\",\n",
       "  type: \"text/css\",\n",
       "  href: \"//cdnjs.cloudflare.com/ajax/libs/font-awesome/4.1.0/css/font-awesome.min.css\"\n",
       "}));\n",
       "$(\"head\").append($(\"<link/>\").attr({\n",
       "  rel:  \"stylesheet\",\n",
       "  type: \"text/css\",\n",
       "  href: \"//dato.com/files/canvas/1.7.1/css/canvas.css\"\n",
       "}));\n",
       "\n",
       "            (function(){\n",
       "\n",
       "                var e = null;\n",
       "                if (typeof element == 'undefined') {\n",
       "                    var scripts = document.getElementsByTagName('script');\n",
       "                    var thisScriptTag = scripts[scripts.length-1];\n",
       "                    var parentDiv = thisScriptTag.parentNode;\n",
       "                    e = document.createElement('div');\n",
       "                    parentDiv.appendChild(e);\n",
       "                } else {\n",
       "                    e = element[0];\n",
       "                }\n",
       "\n",
       "                if (typeof requirejs !== 'undefined') {\n",
       "                    // disable load timeout; ipython_app.js is large and can take a while to load.\n",
       "                    requirejs.config({waitSeconds: 0});\n",
       "                }\n",
       "\n",
       "                require(['//dato.com/files/canvas/1.7.1/js/ipython_app.js'], function(IPythonApp){\n",
       "                    var app = new IPythonApp();\n",
       "                    app.attachView('sframe','Plots', {\"selected_variable\": {\"name\": [\"sales\"], \"descriptives\": {\"rows\": 139, \"columns\": 4}, \"view_component\": \"Plots\", \"view_file\": \"sframe\", \"view_params\": {\"y\": \"Grand Total\", \"x\": \"Average\", \"columns\": [\"Difficult\", \"Average\", \"Nan Hai\", \"Grand Total\"], \"view\": \"Scatter Plot\"}, \"view_components\": [\"Summary\", \"Table\", \"Bar Chart\", \"BoxWhisker Plot\", \"Line Chart\", \"Scatter Plot\", \"Heat Map\", \"Plots\"], \"type\": \"SFrame\", \"columns\": [{\"dtype\": \"int\", \"name\": \"Difficult\"}, {\"dtype\": \"int\", \"name\": \"Average\"}, {\"dtype\": \"int\", \"name\": \"Nan Hai\"}, {\"dtype\": \"int\", \"name\": \"Grand Total\"}], \"column_identifiers\": [\"Average\", \"Difficult\", \"Nan Hai\", \"Grand Total\"]}, \"complete\": 1, \"ipython\": true, \"progress\": 1.0, \"data\": [[182, 710], [324, 784], [0, 1211], [0, 1400], [0, 1531], [46, 935], [754, 1225], [1273, 1273], [1162, 1593], [852, 1390], [949, 1016], [746, 918], [1231, 1231], [1309, 1315], [1056, 1056], [1059, 1059], [1137, 1137], [715, 835], [1391, 1425], [723, 795], [197, 1263], [262, 957], [835, 1102], [950, 1215], [287, 1523], [379, 1249], [501, 1571], [313, 1607], [86, 1517], [905, 1284], [1077, 1083], [590, 1407], [6, 1685], [1, 1401], [0, 1534], [0, 1050], [0, 644], [0, 1043], [0, 1081], [0, 1224], [0, 416], [100, 1383], [0, 1034], [0, 1001], [0, 1227], [0, 1835], [0, 1677], [0, 1437], [66, 960], [9, 227], [14, 453], [515, 967], [1189, 1207], [865, 1000], [0, 881], [0, 938], [0, 482], [61, 791], [28, 1408], [195, 1118], [0, 696], [0, 919], [0, 2017], [0, 1293], [0, 1980], [36, 706], [0, 1227], [0, 1200], [0, 1148], [0, 1365], [0, 1200], [0, 1146], [0, 1819], [0, 1083], [0, 1418], [87, 1368], [773, 773], [708, 708], [972, 1027], [865, 873], [485, 2095], [257, 1441], [0, 1602], [0, 1687], [50, 1402], [50, 1633], [0, 1537], [0, 1766], [83, 1471], [0, 1421], [233, 1400], [67, 1402], [38, 1356], [566, 1510], [1471, 1669], [312, 1800], [33, 1726], [0, 1200], [104, 1716], [0, 1281], [4, 1316], [0, 698], [400, 580], [188, 1526], [100, 1727], [320, 1200], [448, 1000], [621, 685], [74, 833], [0, 1314], [0, 1604], [0, 1469], [0, 1548], [0, 1810], [20, 1015], [0, 1436], [0, 1433], [0, 1260], [0, 1551], [0, 1452], [366, 643], [63, 1160], [80, 392], [613, 669], [177, 1511], [331, 1106], [530, 1003], [0, 1613], [0, 1841], [0, 1362], [16, 1121], [201, 1472], [353, 1013], [266, 1184], [330, 1577], [1035, 2048], [513, 1827], [0, 2208], [69, 1623]], \"columns\": [{\"dtype\": \"int\", \"name\": \"Difficult\"}, {\"dtype\": \"int\", \"name\": \"Average\"}, {\"dtype\": \"int\", \"name\": \"Nan Hai\"}, {\"dtype\": \"int\", \"name\": \"Grand Total\"}]}, e);\n",
       "                });\n",
       "            })();\n",
       "        "
      ]
     },
     "metadata": {},
     "output_type": "display_data"
    }
   ],
   "source": [
    "graphlab.canvas.set_target('ipynb')\n",
    "\n",
    "sales.show(view='Scatter Plot', x='Average', y='Grand Total')"
   ]
  },
  {
   "cell_type": "markdown",
   "metadata": {},
   "source": [
    "## Difficult"
   ]
  },
  {
   "cell_type": "code",
   "execution_count": 172,
   "metadata": {
    "collapsed": false
   },
   "outputs": [
    {
     "data": {
      "application/javascript": [
       "$(\"head\").append($(\"<link/>\").attr({\n",
       "  rel:  \"stylesheet\",\n",
       "  type: \"text/css\",\n",
       "  href: \"//cdnjs.cloudflare.com/ajax/libs/font-awesome/4.1.0/css/font-awesome.min.css\"\n",
       "}));\n",
       "$(\"head\").append($(\"<link/>\").attr({\n",
       "  rel:  \"stylesheet\",\n",
       "  type: \"text/css\",\n",
       "  href: \"//dato.com/files/canvas/1.7.1/css/canvas.css\"\n",
       "}));\n",
       "\n",
       "            (function(){\n",
       "\n",
       "                var e = null;\n",
       "                if (typeof element == 'undefined') {\n",
       "                    var scripts = document.getElementsByTagName('script');\n",
       "                    var thisScriptTag = scripts[scripts.length-1];\n",
       "                    var parentDiv = thisScriptTag.parentNode;\n",
       "                    e = document.createElement('div');\n",
       "                    parentDiv.appendChild(e);\n",
       "                } else {\n",
       "                    e = element[0];\n",
       "                }\n",
       "\n",
       "                if (typeof requirejs !== 'undefined') {\n",
       "                    // disable load timeout; ipython_app.js is large and can take a while to load.\n",
       "                    requirejs.config({waitSeconds: 0});\n",
       "                }\n",
       "\n",
       "                require(['//dato.com/files/canvas/1.7.1/js/ipython_app.js'], function(IPythonApp){\n",
       "                    var app = new IPythonApp();\n",
       "                    app.attachView('sframe','Plots', {\"selected_variable\": {\"name\": [\"sales\"], \"descriptives\": {\"rows\": 139, \"columns\": 4}, \"view_component\": \"Plots\", \"view_file\": \"sframe\", \"view_params\": {\"y\": \"Grand Total\", \"x\": \"Difficult\", \"columns\": [\"Difficult\", \"Average\", \"Nan Hai\", \"Grand Total\"], \"view\": \"Scatter Plot\"}, \"view_components\": [\"Summary\", \"Table\", \"Bar Chart\", \"BoxWhisker Plot\", \"Line Chart\", \"Scatter Plot\", \"Heat Map\", \"Plots\"], \"type\": \"SFrame\", \"columns\": [{\"dtype\": \"int\", \"name\": \"Difficult\"}, {\"dtype\": \"int\", \"name\": \"Average\"}, {\"dtype\": \"int\", \"name\": \"Nan Hai\"}, {\"dtype\": \"int\", \"name\": \"Grand Total\"}], \"column_identifiers\": [\"Average\", \"Difficult\", \"Nan Hai\", \"Grand Total\"]}, \"complete\": 1, \"ipython\": true, \"progress\": 1.0, \"data\": [[422, 710], [100, 784], [810, 1211], [824, 1400], [0, 1531], [35, 935], [459, 1225], [0, 1273], [237, 1593], [81, 1390], [67, 1016], [172, 918], [0, 1231], [6, 1315], [0, 1056], [0, 1059], [0, 1137], [0, 835], [0, 1425], [61, 795], [382, 1263], [0, 957], [12, 1102], [60, 1215], [40, 1523], [0, 1249], [0, 1571], [0, 1607], [0, 1517], [0, 1284], [0, 1083], [0, 1407], [0, 1685], [0, 1401], [0, 1534], [0, 1050], [0, 644], [0, 1043], [0, 1081], [0, 1224], [0, 416], [20, 1383], [0, 1034], [0, 1001], [23, 1227], [5, 1835], [0, 1677], [0, 1437], [0, 960], [16, 227], [439, 453], [452, 967], [18, 1207], [135, 1000], [178, 881], [6, 938], [0, 482], [0, 791], [31, 1408], [0, 1118], [0, 696], [0, 919], [0, 2017], [0, 1293], [0, 1980], [0, 706], [0, 1227], [51, 1200], [0, 1148], [0, 1365], [0, 1200], [0, 1146], [0, 1819], [500, 1083], [0, 1418], [0, 1368], [0, 773], [0, 708], [0, 1027], [8, 873], [0, 2095], [0, 1441], [0, 1602], [0, 1687], [0, 1402], [0, 1633], [0, 1537], [132, 1766], [0, 1471], [0, 1421], [0, 1400], [0, 1402], [0, 1356], [500, 1510], [0, 1669], [0, 1800], [51, 1726], [0, 1200], [26, 1716], [2, 1281], [58, 1316], [30, 698], [180, 580], [603, 1526], [110, 1727], [0, 1200], [84, 1000], [64, 685], [702, 833], [0, 1314], [0, 1604], [96, 1469], [5, 1548], [0, 1810], [0, 1015], [0, 1436], [0, 1433], [201, 1260], [80, 1551], [121, 1452], [151, 643], [37, 1160], [164, 392], [0, 669], [0, 1511], [71, 1106], [232, 1003], [70, 1613], [103, 1841], [106, 1362], [27, 1121], [17, 1472], [0, 1013], [501, 1184], [0, 1577], [0, 2048], [132, 1827], [0, 2208], [0, 1623]], \"columns\": [{\"dtype\": \"int\", \"name\": \"Difficult\"}, {\"dtype\": \"int\", \"name\": \"Average\"}, {\"dtype\": \"int\", \"name\": \"Nan Hai\"}, {\"dtype\": \"int\", \"name\": \"Grand Total\"}]}, e);\n",
       "                });\n",
       "            })();\n",
       "        "
      ]
     },
     "metadata": {},
     "output_type": "display_data"
    }
   ],
   "source": [
    "graphlab.canvas.set_target('ipynb')\n",
    "\n",
    "sales.show(view='Scatter Plot', x='Difficult', y='Grand Total')"
   ]
  },
  {
   "cell_type": "markdown",
   "metadata": {},
   "source": [
    "# Extracting the Regression Weights"
   ]
  },
  {
   "cell_type": "code",
   "execution_count": 59,
   "metadata": {
    "collapsed": false,
    "scrolled": true
   },
   "outputs": [
    {
     "name": "stdout",
     "output_type": "stream",
     "text": [
      "+-------------+-------+----------------+\n",
      "|     name    | index |     value      |\n",
      "+-------------+-------+----------------+\n",
      "| (intercept) |  None | 1.11391564728  |\n",
      "|  Difficult  |  None | 0.998818010524 |\n",
      "|   Average   |  None | 0.998988794087 |\n",
      "|   Nan Hai   |  None | 0.999174234071 |\n",
      "+-------------+-------+----------------+\n",
      "[4 rows x 3 columns]\n",
      "\n"
     ]
    }
   ],
   "source": [
    "weights = model_1.get(\"coefficients\")\n",
    "\n",
    "print (weights)"
   ]
  },
  {
   "cell_type": "markdown",
   "metadata": {},
   "source": [
    "# Making Predictions"
   ]
  },
  {
   "cell_type": "code",
   "execution_count": 60,
   "metadata": {
    "collapsed": false
   },
   "outputs": [
    {
     "name": "stdout",
     "output_type": "stream",
     "text": [
      "[710.3435454237656, 784.3708102494915, 1210.8253720342877, 1399.6643151440999, 1530.849668010429, 935.3208264404985, 1224.799024028149, 1272.826650519881, 1592.4985642802503, 1389.7792520323264, 1016.0750879408369, 918.1562538462169, 1314.7831551701527, 1056.046082203027, 1136.9641745240647, 835.2918115079549, 1424.6792521805573, 795.3016289888415, 1262.898364207318, 957.2750723775905, 1102.0448045242933, 1214.9130686458711, 1522.7888039204404, 1570.7237319410913, 1606.7288670847272, 1516.8452808947716, 1283.8858090089282, 1406.8426533947866, 1684.721387417502, 1533.847190712643, 1050.2468614221364, 644.5821223891908, 1043.2526417836373, 1081.2212626783464, 416.7703970209356, 1034.2600736769957, 1001.287323952643, 1227.0925077111672, 1834.596854050366, 1676.729106184838, 1436.9272900077274, 960.3089413167488, 227.91909824484415, 453.5808653845195, 967.0588853588603, 1206.8903160060142, 1000.0796539531691, 881.3230080726652, 938.3372098648675, 791.449422958622, 1407.9350019701294, 1118.1545485420245, 696.5391825608981, 2016.4483457690783, 1293.0462003014609, 1979.4788991084404, 706.5242490621723, 1227.1007008527556, 1200.1048291319175, 1148.1659363611232, 1364.9867451545942, 1200.1229965328305, 1146.1675878929807, 1083.0414993728305, 1367.9681345781644, 773.3322534764387, 708.3979818607912, 1027.0856063736499, 873.2297666166239, 2094.2939976342004, 1601.791038629491, 1686.720848525551, 1401.9469198160116, 1632.7561678864806, 1536.8447134148569, 1765.6085915089375, 1470.8838224474455, 1420.9405022625867, 1401.9437673362768, 1355.987130328545, 1509.5839382900972, 1668.4629300952004, 1799.5696797004714, 1200.1229965328305, 1715.6683537430097, 1281.0553970455107, 1316.0058049594186, 698.5268443226212, 580.4966751763468, 1525.6041313239712, 1726.6300892997567, 1200.0636557378193, 1000.1751498275813, 685.4103094487668, 833.1622611396024, 1603.7893870976336, 1468.8666680374663, 1547.8338488719044, 1809.6192793163202, 1435.9281157736561, ... ]\n"
     ]
    },
    {
     "data": {
      "text/plain": [
       "{'max_error': 0.9190982448441503, 'rmse': 0.31833603772937424}"
      ]
     },
     "execution_count": 60,
     "metadata": {},
     "output_type": "execute_result"
    }
   ],
   "source": [
    "predictions = model_1.predict(train_data)\n",
    "actual = predictions[0]\n",
    "\n",
    "tolerance = 0.0000001\n",
    "print predictions\n",
    "\n",
    "# Evaluating\n",
    "\n",
    "model_1.evaluate(train_data)"
   ]
  },
  {
   "cell_type": "markdown",
   "metadata": {
    "collapsed": true
   },
   "source": [
    "# Compute RSS"
   ]
  },
  {
   "cell_type": "code",
   "execution_count": 61,
   "metadata": {
    "collapsed": false
   },
   "outputs": [
    {
     "name": "stdout",
     "output_type": "stream",
     "text": [
      "12.2172\n"
     ]
    }
   ],
   "source": [
    "#\n",
    "# RSS function given the model, data, and the outcome; type = dictionary \n",
    "summary = model_1.summary(output='dict')\n",
    "\n",
    "#\n",
    "# Location of the RSS in the summary\n",
    "rss = summary['sections'][3][0][1]\n",
    "print(rss)"
   ]
  },
  {
   "cell_type": "markdown",
   "metadata": {},
   "source": [
    "# Predicting New Values"
   ]
  },
  {
   "cell_type": "code",
   "execution_count": 240,
   "metadata": {
    "collapsed": false
   },
   "outputs": [],
   "source": [
    "#\n",
    "# Creating the desired final values\n",
    "\n",
    "Goal = 1700\n",
    "\n",
    "new_data = graphlab.SFrame({'Grand Total': [None],\n",
    "                            'Nan Hai': [Goal*.47],\n",
    "                            'Difficult': [Goal*-.084],\n",
    "                            'Average': [Goal*-.348]})"
   ]
  },
  {
   "cell_type": "code",
   "execution_count": 232,
   "metadata": {
    "collapsed": false
   },
   "outputs": [],
   "source": [
    "new_prediction = model_1.predict(new_data)"
   ]
  },
  {
   "cell_type": "code",
   "execution_count": 233,
   "metadata": {
    "collapsed": false
   },
   "outputs": [
    {
     "name": "stdout",
     "output_type": "stream",
     "text": [
      "[80.40698793416072]\n"
     ]
    }
   ],
   "source": [
    "print new_prediction"
   ]
  },
  {
   "cell_type": "code",
   "execution_count": 241,
   "metadata": {
    "collapsed": false
   },
   "outputs": [],
   "source": [
    "new_data_2 = graphlab.SFrame({'Grand Total': [None],\n",
    "                            'Nan Hai': [Goal*.80],\n",
    "                            'Difficult': [Goal*.05],\n",
    "                            'Average': [Goal*.10]})"
   ]
  },
  {
   "cell_type": "code",
   "execution_count": 242,
   "metadata": {
    "collapsed": false
   },
   "outputs": [],
   "source": [
    "new_prediction_2 = model_1.predict(new_data_2)"
   ]
  },
  {
   "cell_type": "code",
   "execution_count": 243,
   "metadata": {
    "collapsed": false
   },
   "outputs": [
    {
     "name": "stdout",
     "output_type": "stream",
     "text": [
      "[1614.7191018728215]\n"
     ]
    }
   ],
   "source": [
    "print new_prediction_2"
   ]
  },
  {
   "cell_type": "code",
   "execution_count": null,
   "metadata": {
    "collapsed": true
   },
   "outputs": [],
   "source": []
  }
 ],
 "metadata": {
  "kernelspec": {
   "display_name": "Python 2",
   "language": "python",
   "name": "python2"
  },
  "language_info": {
   "codemirror_mode": {
    "name": "ipython",
    "version": 2
   },
   "file_extension": ".py",
   "mimetype": "text/x-python",
   "name": "python",
   "nbconvert_exporter": "python",
   "pygments_lexer": "ipython2",
   "version": "2.7.10"
  }
 },
 "nbformat": 4,
 "nbformat_minor": 0
}
